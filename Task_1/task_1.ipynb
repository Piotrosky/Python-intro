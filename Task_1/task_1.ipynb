{
 "cells": [
  {
   "cell_type": "code",
   "execution_count": null,
   "id": "e8891cb7",
   "metadata": {},
   "outputs": [],
   "source": [
    "# 3.3\n",
    "\n",
    "'''\n",
    "zip() - iteruję po kilku możliwych do iterowania elementach, łącząc je w krotki\n",
    "https://docs.python.org/3/library/functions.html#zip\n",
    "\n",
    "enumerate() - służy do iterowania po obiektach iterowalnych (np. listach, krotkach, stringach) jednocześnie zwracając indeks oraz wartość każdego elementu.\n",
    "https://docs.python.org/3/library/functions.html#enumerate\n",
    "\n",
    "math - dostarcza szeroki zestaw funkcji matematycznych (np. sin(), cos(), factorial(), gcd()) oraz stałych (np. pi, e) zgodnych z definicjami w języku C.\n",
    "Funkcje te zwykle nie obsługują liczb zespolonych (dla nich jest moduł cmath).\n",
    "https://docs.python.org/3/library/math.html?utm_source=chatgpt.com\n",
    "\n",
    "ValueError - jest rzucany, gdy funkcja otrzyma argument o poprawnym typie, ale nieodpowiedniej wartości (np. podanie negatywnej liczby dla funkcji pierwiastka).\n",
    "https://docs.python.org/3/library/exceptions.html#ValueError\n",
    "'''"
   ]
  },
  {
   "cell_type": "code",
   "execution_count": null,
   "id": "60ea5e17",
   "metadata": {},
   "outputs": [
    {
     "data": {
      "text/plain": [
       "'Uczniowie i ich oceny: '"
      ]
     },
     "metadata": {},
     "output_type": "display_data"
    },
    {
     "data": {
      "text/plain": [
       "[('Agata', 1),\n",
       " ('Pawel', 4),\n",
       " ('Agnieszka', 5),\n",
       " ('Paulina', 3),\n",
       " ('Magda', 2),\n",
       " ('Piotr', 4),\n",
       " ('Wiktor', 5),\n",
       " ('Wiktoria', 6),\n",
       " ('Małgorzata', 1),\n",
       " ('Andrzej', 5),\n",
       " ('Michał', 4)]"
      ]
     },
     "metadata": {},
     "output_type": "display_data"
    },
    {
     "data": {
      "text/plain": [
       "'Srednia klasy to: '"
      ]
     },
     "metadata": {},
     "output_type": "display_data"
    },
    {
     "data": {
      "text/plain": [
       "3.6363636363636362"
      ]
     },
     "metadata": {},
     "output_type": "display_data"
    }
   ],
   "source": [
    "# 3.4\n",
    "import statistics\n",
    "\n",
    "grades = [1, 4, 5, 3, 2, 4, 5, 6, 1, 5, 4]\n",
    "students = [\"Agata\", \"Pawel\", \"Agnieszka\", \"Paulina\", \"Magda\", \"Piotr\", \"Wiktor\", \"Wiktoria\", \"Małgorzata\", \"Andrzej\", \"Michał\"]\n",
    "\n",
    "# Dokumentacja: https://docs.python.org/3/library/stdtypes.html#list\n",
    "# Dokumentacja: https://docs.python.org/3/library/functions.html#zip\n",
    "combined = list(zip(students, grades))\n",
    "display(\"Uczniowie i ich oceny: \", combined)\n",
    "\n",
    "# Funkcja licząca średnią z podanych liczb w tym przypadku średnią ocen klasy\n",
    "# Dokumentacja: https://docs.python.org/3/library/statistics.html#statistics.mean\n",
    "try:\n",
    "    class_mean = statistics.mean(grades)\n",
    "    display(\"Srednia klasy to: \", class_mean)\n",
    "except statistics.StatisticsError as e:\n",
    "    print(\"An error accured while counting mean of class\", e)\n",
    "except Exception as e:\n",
    "    print(\"An unexpected error accurred\", e)"
   ]
  }
 ],
 "metadata": {
  "kernelspec": {
   "display_name": "base",
   "language": "python",
   "name": "python3"
  },
  "language_info": {
   "codemirror_mode": {
    "name": "ipython",
    "version": 3
   },
   "file_extension": ".py",
   "mimetype": "text/x-python",
   "name": "python",
   "nbconvert_exporter": "python",
   "pygments_lexer": "ipython3",
   "version": "3.13.5"
  }
 },
 "nbformat": 4,
 "nbformat_minor": 5
}
